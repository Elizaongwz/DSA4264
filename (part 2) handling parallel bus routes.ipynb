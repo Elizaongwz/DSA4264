{
 "cells": [
  {
   "cell_type": "markdown",
   "metadata": {},
   "source": [
    "Import Packages"
   ]
  },
  {
   "cell_type": "code",
   "execution_count": 1,
   "metadata": {},
   "outputs": [],
   "source": [
    "import folium\n",
    "import geopandas as gpd\n",
    "import pandas as pd\n",
    "from shapely.geometry import MultiLineString, LineString\n",
    "from shapely.ops import nearest_points\n",
    "import math\n",
    "import numpy as np"
   ]
  },
  {
   "cell_type": "markdown",
   "metadata": {},
   "source": [
    "Load Data from our API Calls"
   ]
  },
  {
   "cell_type": "code",
   "execution_count": 2,
   "metadata": {},
   "outputs": [
    {
     "name": "stdout",
     "output_type": "stream",
     "text": [
      "  ServiceNo Operator  Direction  StopSequence  BusStopCode  Distance  \\\n",
      "0        10     SBST          1             1        75009       0.0   \n",
      "1        10     SBST          1             2        76059       0.6   \n",
      "2        10     SBST          1             3        76069       1.1   \n",
      "3        10     SBST          1             4        96289       2.3   \n",
      "4        10     SBST          1             5        96109       2.7   \n",
      "\n",
      "  WD_FirstBus WD_LastBus SAT_FirstBus SAT_LastBus SUN_FirstBus SUN_LastBus  \\\n",
      "0        0500       2300         0500        2300         0500        2300   \n",
      "1        0502       2302         0502        2302         0502        2302   \n",
      "2        0504       2304         0504        2304         0503        2304   \n",
      "3        0508       2308         0508        2309         0507        2308   \n",
      "4        0509       2310         0509        2311         0508        2309   \n",
      "\n",
      "          RoadName           Description  Latitude   Longitude  \n",
      "0  Tampines Ctrl 1          Tampines Int  1.354076  103.943391  \n",
      "1   Tampines Ave 5  Opp Our Tampines Hub  1.352962  103.941652  \n",
      "2   Tampines Ave 5               Blk 147  1.348753  103.942086  \n",
      "3        Simei Ave   Changi General Hosp  1.340055  103.948381  \n",
      "4        Simei Ave          Opp Blk 3012  1.337371  103.950673  \n"
     ]
    }
   ],
   "source": [
    "trunkroute = pd.read_csv(\"Bus_RoutesStopsServices/trunkroute.csv\")\n",
    "transport_node_bus_202407 = pd.read_csv(\"Passenger_Volume_By_Bus_Stop/transport_node_bus_202407.csv\")\n",
    "transport_node_bus_202408 = pd.read_csv(\"Passenger_Volume_By_Bus_Stop/transport_node_bus_202408.csv\")\n",
    "transport_node_bus_202409 = pd.read_csv(\"Passenger_Volume_By_Bus_Stop/transport_node_bus_202409.csv\")\n",
    "\n",
    "print(trunkroute.head())"
   ]
  },
  {
   "cell_type": "markdown",
   "metadata": {},
   "source": [
    "MRT line mapping\n",
    "- mrt_lines mapping\n",
    "- function to find MRT line based on bus stop description"
   ]
  },
  {
   "cell_type": "code",
   "execution_count": 3,
   "metadata": {},
   "outputs": [],
   "source": [
    "#mapping of stations to MRT lines\n",
    "mrt_lines = {\n",
    "    'Thomson-East Coast Line': ['WOODLANDS NORTH MRT STATION','WOODLANDS MRT STATION','WOODLANDS SOUTH MRT STATION', 'SPRINGLEAF MRT STATION','LENTOR MRT STATION','MAYFLOWER MRT STATION','BRIGHT HILL MRT STATION',\n",
    "                                'UPPER THOMSON MRT STATION','CALDECOTT MRT STATION','STEVENS MRT STATION','NAPIER MRT STATION','ORCHARD BOULEVARD MRT STATION','ORCHARD MRT STATION','GREAT WORLD MRT STATION',\n",
    "                                'HAVELOCK MRT STATION','OUTRAM PARK MRT STATION','MAXWELL MRT STATION','SHENTON WAY MRT STATION','MARINA BAY MRT STATION','GARDENS BY THE BAY MRT STATION','TANJONG RHU MRT STATION',\n",
    "                                'KATONG PARK MRT STATION','TANJONG KATONG MRT STATION','MARINE PARADE MRT STATION','MARINE TERRACE MRT STATION','SIGLAP MRT STATION','BAYSHORE MRT STATION'],\n",
    "    'North-South Line': ['JURONG EAST MRT STATION','BUKIT BATOK MRT STATION','BUKIT GOMBAK MRT STATION','CHOA CHU KANG MRT STATION','YEW TEE MRT STATION','KRANJI MRT STATION','MARSILING MRT STATION','WOODLANDS MRT STATION',\n",
    "                         'ADMIRALTY MRT STATION','SEMBAWANG MRT STATION','CANBERRRA MRT STATION','YISHUN MRT STATION','KHATIB MRT STATION','YIO CHU KANG MRT STATION','ANG MO KIO MRT STATION','BISHAN MRT STATION',\n",
    "                         'BRADDELL MRT STATION','TOA PAYOH MRT STATION','NOVENA MRT STATION','NEWTON MRT STATION','ORCHARD MRT STATION','SOMERSET MRT STATION','DHOBY GHAUT MRT STATION','CITY HALL MRT STATION',\n",
    "                         'RAFFLES PLACE MRT STATION','MARINA BAY MRT STATION','MARINA SOUTH PIER MRT STATION'],\n",
    "    'Circle Line': ['DHOBY GHAUT MRT STATION', 'BRAS BASAH MRT STATION', 'ESPLANADE MRT STATION', 'PROMENADE MRT STATION','NICOLL HIGHWAY MRT STATION','STADIUM MRT STATION',\n",
    "                    'MOUNTBATTEN MRT STATION','DAKOTA MRT STATION','PAYA LEBAR MRT STATION','MACPHERSON MRT STATION','TAI SENG MRT STATION','BARTLEY MRT STATION','SERANGOON MRT STATION','LORONG CHUAN MRT STATION',\n",
    "                    'BISHAN MRT STATION','MARYMOUNT MRT STATION','CALDECOTT MRT STATION','BOTANIC GARDENS MRT STATION','FARRER ROAD MRT STATION','HOLLAND VILLAGE MRT STATION','BUONA VISTA MRT STATION','ONE-NORTH MRT STATION',\n",
    "                    'KENT RIDGE MRT STATION', 'HAW PAW VILLA MRT STATION', 'PASIR PANJANG MRT STATION', 'LABRADOR PARK MRT STATION', 'TELOK BLANGAH MRT STATION','HABOURFRONT MRT STATION'],\n",
    "    'Circle Line.': ['PROMENADE MRT STATION','BAYFRONT MRT STATION', 'MARINA BAY MRT STATION'],\n",
    "    'North-East Line': ['HARBOURFRONT MRT STATION','OUTRAM PARK MRT STATION','CHINATOWN MRT STATION','CLARKE QUAY MRT STATION','DHOBY GHAUT MRT STATION','LITTLE INDIA MRT STATION','FARRER PARK MRT STATION','BOON KENG MRT STATION',\n",
    "                        'POTONG PASIR MRT STATION','WOODLEIGH MRT STATION','SERANGOON MRT STATION','KOVAN MRT STATION','HOUGANG MRT STATION','BUANGKOK MRT STATION','SENGKANG MRT STATION','PUNGGOL MRT STATION'],\n",
    "    'Downtown Line': ['BUKIT PANJANG MRT STATION', 'CASHEW MRT STATION', 'HILLVIEW MRT STATION', 'HUME MRT STATION', 'BEAUTY WORLD MRT STATION', 'KING ALBERT PARK MRT STATION', 'SIXTH AVENUE','TAN KAH KEE MRT STATION',\n",
    "                      'BOTANIC GARDENS MRT STATION', 'STEVENS MRT STATION', 'NEWTON MRT STATION', 'LITTLE INDIA MRT STATION', 'ROCHOR MRT STATION', 'BUGIS MRT STATION', 'PROMENADE MRT STATION', 'BAYFRONT MRT STATION',\n",
    "                      'DOWNTOWN MRT STATION', 'TELOK AYER MRT STATION', 'CHINATOWN MRT STATION', 'FORT CANNING MRT STATION', ' BENCOOLEN MRT STATION', 'JALAN BESAR MRT STATION', 'BENDEMEER MRT STATION', 'GEYLANG  BAHRU MRT STATION',\n",
    "                      'MATTAR MRT STATION', 'MACPHERSON MRT STATION', 'UBI MRT STATION', 'KAKI BUKIT MRT STATION', ' BEDOK NORTH MRT STATION', 'BEDOK RESERVOIR MRT STATION', 'TAMPINES WEST MRT STATION',\n",
    "                      'TAMPINES MRT STATION', 'TAMPINES EAST MRT STATION', 'UPPER CHANGI MRT STATION', 'EXPO MRT STATION'],\n",
    "    'East-West Line': ['PASIR RIS MRT STATION', 'TAMPINES MRT STATION', 'SIMEI MRT STATION', 'TANAH MERAH MRT STATION','BEDOK MRT STATION', 'KEMBANGAN MRT STATION', 'EUNOS MRT STATION', 'PAYA LEBAR MRT STATION',\n",
    "                       'ALJUNIED MRT STATION', 'KALLANG MRT STATION', ' LAVENDER MRT STATION','BUGIS MRT STATION', 'CITY HALL MRT STATION', 'RAFFLES PLACE MRT STATION','TANJONG PAGAR MRT STATION', 'OUTRAM PARK MRT STATION',\n",
    "                       'TIONG BAHRU MRT STATION', 'REDHILL MRT STATION', 'QUEENSTOWN MRT STATION', 'COMMONWEALTH MRT STATION','BUONA VISTA MRT STATION', 'DOVER MRT STATION', 'CLEMENTI MRT STATION', 'JURONG EAST MRT STATION',\n",
    "                       'CHINESE GARDEN MRT STATION', 'LAKESIDE MRT STATION', 'BOON LAY MRT STATION', 'PIONEER MRT STATION','JOO KON MRT STATION',' GUL CIRCLE MRT STATION', 'TUAS CRESCENT MRT STATION', \n",
    "                       'TUAS WEST ROAD MRT STATION', 'TUAS LINK MRT STATION'],\n",
    "    'East-West Line.':['TANAH MERAH MRT STATION','EXPO MRT STATION', 'CHANGI AIRPORT MRT STATION']\n",
    "}\n",
    "\n",
    "def find_mrt_line(description, mrt_lines):\n",
    "\n",
    "    matching_lines = []\n",
    "\n",
    "    for line, stations in mrt_lines.items():\n",
    "        for station in stations:\n",
    "            station_name = station.replace('MRT STATION', '').strip().lower() \n",
    "            if station_name in description.lower(): \n",
    "                matching_lines.append(line)\n",
    "    return matching_lines if matching_lines else None"
   ]
  },
  {
   "cell_type": "markdown",
   "metadata": {},
   "source": [
    "Weekday Bus Stop Passenger Volume Data\n",
    "\n",
    "relevant columns:\n",
    "- PT_CODE: bus stop code\n",
    "- average_passenger_volume: the sum of tap in & tap out in the 3 months, divided by 3"
   ]
  },
  {
   "cell_type": "code",
   "execution_count": 4,
   "metadata": {},
   "outputs": [
    {
     "name": "stdout",
     "output_type": "stream",
     "text": [
      "  PT_TYPE  PT_CODE DAY_TYPE  july_volume  august_volume  september_volume  \\\n",
      "0     BUS     1012  WEEKDAY      47934.0        47719.0           47150.0   \n",
      "2     BUS     1013  WEEKDAY      31650.0        30577.0           29569.0   \n",
      "4     BUS     1019  WEEKDAY      32331.0        31397.0           30008.0   \n",
      "6     BUS     1029  WEEKDAY      44008.0        43114.0           43488.0   \n",
      "8     BUS     1039  WEEKDAY      76900.0        71162.0           72208.0   \n",
      "\n",
      "   average_passenger_volume  \n",
      "0              47601.000000  \n",
      "2              30598.666667  \n",
      "4              31245.333333  \n",
      "6              43536.666667  \n",
      "8              73423.333333  \n"
     ]
    }
   ],
   "source": [
    "#for each month, day type, and bus stop - get sum of tap in + tap out\n",
    "jul_busstop_vol = transport_node_bus_202407.groupby(['PT_TYPE', 'PT_CODE', 'DAY_TYPE']).agg(\n",
    "    july_tap_in = ('TOTAL_TAP_IN_VOLUME', 'sum'),\n",
    "    july_tap_out = ('TOTAL_TAP_OUT_VOLUME', 'sum')\n",
    ").reset_index()\n",
    "\n",
    "aug_busstop_vol = transport_node_bus_202408.groupby(['PT_TYPE', 'PT_CODE', 'DAY_TYPE']).agg(\n",
    "    august_tap_in = ('TOTAL_TAP_IN_VOLUME', 'sum'),\n",
    "    august_tap_out = ('TOTAL_TAP_OUT_VOLUME', 'sum')\n",
    ").reset_index()\n",
    "\n",
    "sep_busstop_vol = transport_node_bus_202409.groupby(['PT_TYPE', 'PT_CODE', 'DAY_TYPE']).agg(\n",
    "    september_tap_in = ('TOTAL_TAP_IN_VOLUME', 'sum'),\n",
    "    september_tap_out = ('TOTAL_TAP_OUT_VOLUME', 'sum')\n",
    ").reset_index()\n",
    "\n",
    "#get passenger volume (tap in + tap out)\n",
    "jul_busstop_vol['july_volume'] = jul_busstop_vol['july_tap_in'] + jul_busstop_vol['july_tap_out']\n",
    "jul_busstop_vol = jul_busstop_vol.drop(columns = ['july_tap_in', 'july_tap_out'])\n",
    "\n",
    "aug_busstop_vol['august_volume'] = aug_busstop_vol['august_tap_in'] + aug_busstop_vol['august_tap_out']\n",
    "aug_busstop_vol = aug_busstop_vol.drop(columns = ['august_tap_in', 'august_tap_out'])\n",
    "\n",
    "sep_busstop_vol['september_volume'] = sep_busstop_vol['september_tap_in'] + sep_busstop_vol['september_tap_out']\n",
    "sep_busstop_vol = sep_busstop_vol.drop(columns = ['september_tap_in', 'september_tap_out'])\n",
    "\n",
    "#merge to get all months volumes\n",
    "busstop_volumes = pd.merge(jul_busstop_vol, aug_busstop_vol, on = ['PT_TYPE', 'PT_CODE', 'DAY_TYPE'], how = 'outer')\n",
    "busstop_volumes = pd.merge(busstop_volumes, sep_busstop_vol, on = ['PT_TYPE', 'PT_CODE', 'DAY_TYPE'], how = 'outer')\n",
    "\n",
    "#calc average passenger volume across the 3 months\n",
    "busstop_volumes['average_passenger_volume'] = busstop_volumes[['july_volume', 'august_volume', 'september_volume']].mean(axis = 1)\n",
    "\n",
    "#filter for weekday\n",
    "weekday_busstop_volumes = busstop_volumes[busstop_volumes['DAY_TYPE'] == 'WEEKDAY']\n",
    "\n",
    "print(weekday_busstop_volumes.head())"
   ]
  },
  {
   "cell_type": "markdown",
   "metadata": {},
   "source": [
    "Combined Bus Data\n",
    "- to be used for this remaining file"
   ]
  },
  {
   "cell_type": "code",
   "execution_count": 5,
   "metadata": {},
   "outputs": [
    {
     "name": "stdout",
     "output_type": "stream",
     "text": [
      "  ServiceNo  Direction  StopSequence  BusStopCode           Description  \\\n",
      "0        10          1             1        75009          Tampines Int   \n",
      "1        10          1             2        76059  Opp Our Tampines Hub   \n",
      "2        10          1             3        76069               Blk 147   \n",
      "3        10          1             4        96289   Changi General Hosp   \n",
      "4        10          1             5        96109          Opp Blk 3012   \n",
      "\n",
      "   MRTBusStop                          MRTLine  average_passenger_volume  \\\n",
      "0           1  [Downtown Line, East-West Line]              1.899301e+06   \n",
      "1           0                             None              1.127847e+05   \n",
      "2           0                             None              1.112697e+05   \n",
      "3           0                             None              1.187423e+05   \n",
      "4           0                             None              4.042733e+04   \n",
      "\n",
      "   Latitude   Longitude  \n",
      "0  1.354076  103.943391  \n",
      "1  1.352962  103.941652  \n",
      "2  1.348753  103.942086  \n",
      "3  1.340055  103.948381  \n",
      "4  1.337371  103.950673  \n"
     ]
    }
   ],
   "source": [
    "#merge trunkroute and weekday_busstop_volumes on BusStopCode = PT_CODE\n",
    "combined_bus_data = pd.merge(trunkroute, weekday_busstop_volumes, left_on = 'BusStopCode', right_on = 'PT_CODE', how = 'inner')\n",
    "\n",
    "#add column if the bus stop is MRT bus stop or not\n",
    "combined_bus_data['MRTBusStop'] = combined_bus_data['Description'].apply(lambda x: 1 if 'Stn' in x or 'Int' in x else 0)\n",
    "\n",
    "#add column to find MRTline of MRT bus stops\n",
    "combined_bus_data['MRTLine'] = combined_bus_data.apply(\n",
    "    lambda row: find_mrt_line(row['Description'], mrt_lines) if row['MRTBusStop'] == 1 else None, axis=1\n",
    ")\n",
    "\n",
    "#select only the relevant columns\n",
    "combined_bus_data = combined_bus_data[['ServiceNo', 'Direction', 'StopSequence', 'BusStopCode', 'Description', 'MRTBusStop', 'MRTLine',\n",
    "                                       'average_passenger_volume', 'Latitude', 'Longitude']]\n",
    "\n",
    "print(combined_bus_data.head())\n"
   ]
  },
  {
   "cell_type": "markdown",
   "metadata": {},
   "source": [
    "parallelism_df \n",
    "- hardcoded to test, but to take data from parallelscore.ipynb\n",
    "- filter for top 5 (can change)\n",
    "\n",
    "\n"
   ]
  },
  {
   "cell_type": "code",
   "execution_count": 6,
   "metadata": {},
   "outputs": [
    {
     "name": "stdout",
     "output_type": "stream",
     "text": [
      "  ServiceNo  Direction  ParallelismScore\n",
      "0        63          1          2.254552\n",
      "1      961M          1          1.964276\n",
      "2       145          1          1.927232\n",
      "3        36          1          1.901650\n",
      "4       63A          1          1.872716\n"
     ]
    }
   ],
   "source": [
    "parallelism_df = {\n",
    "    'ServiceNo': ['63', '961M', '145', '36', '63A', '6', '127A', '973A', '68A', '88B'],\n",
    "    'Direction': [1, 1, 1, 1, 1, 1, 1, 1, 1, 1],\n",
    "    'ParallelismScore': [2.254552, 1.964276, 1.927232, 1.901650, 1.872716, 0.004168, 0.003957, 0.003083, 0.003008, 0.002643]\n",
    "}\n",
    "\n",
    "parallelism_df = pd.DataFrame(parallelism_df)\n",
    "top_5_buses = parallelism_df.sort_values(by = 'ParallelismScore', ascending = False).head(5)\n",
    "\n",
    "print(top_5_buses)\n",
    "\n"
   ]
  },
  {
   "cell_type": "markdown",
   "metadata": {},
   "source": [
    "Defining high and low passenger volume (TBC)\n",
    "- up to us to decide"
   ]
  },
  {
   "cell_type": "code",
   "execution_count": 7,
   "metadata": {},
   "outputs": [],
   "source": [
    "low_volume = combined_bus_data['average_passenger_volume'].quantile(0.50)\n"
   ]
  },
  {
   "cell_type": "markdown",
   "metadata": {},
   "source": [
    "Classification function to remove/keep bus stops\n",
    "\n",
    "considerations:\n",
    "- used average passenger volume for all the bus stops in the inside and outside range to compare against our threshold of low_volume\n",
    "    - may not be representative of all stops in between the MRT bus stops, for eg if indiv bus stops all have low passenger vol except 1 bus stop, do we remove that bus stop too?\n",
    "- smth else to consider: maybe can use distance between each bus stop too (if v near each other can remove, if very far then cannot remove)\n",
    "    "
   ]
  },
  {
   "cell_type": "code",
   "execution_count": 8,
   "metadata": {},
   "outputs": [],
   "source": [
    "def process_bus_routes(combined_bus_data, top_buses, low_volume):\n",
    "\n",
    "    #filter for top routes from the bus data and grp by bus\n",
    "    top_routes = combined_bus_data[combined_bus_data['ServiceNo'].isin(top_buses['ServiceNo'])].copy()\n",
    "    grouped_routes = top_routes.groupby(['ServiceNo', 'Direction'])\n",
    "\n",
    "    #initialisation\n",
    "    top_routes.loc[:, 'outcome'] = 'keep'\n",
    "    final_routes = []\n",
    "\n",
    "    for (service_no, direction), group in grouped_routes:\n",
    "\n",
    "        group = group.sort_values(by = 'StopSequence')\n",
    "        mrt_busstops = group[group['MRTBusStop'] == 1]\n",
    "        \n",
    "        #if route have < 2 MRT stops, keep the route\n",
    "        if len(mrt_busstops) < 2:\n",
    "            group.loc[:, 'outcome'] = 'keep'\n",
    "\n",
    "        else:\n",
    "\n",
    "            stop_sequences = mrt_busstops['StopSequence'].tolist()\n",
    "            \n",
    "            #iterate over each pairs of MRT stops\n",
    "            for i in range(len(stop_sequences) - 1):\n",
    "\n",
    "                #get seq number of both mrt bus stops\n",
    "                first_mrt_busstop_sequence_no = stop_sequences[i]\n",
    "                second_mrt_busstop_sequence_no = stop_sequences[i + 1]\n",
    "                \n",
    "                #calculate the average passenger volume for ALL stops in between the 1st and 2nd MRT bus stop\n",
    "                in_between_stops = group[(group['StopSequence'] > first_mrt_busstop_sequence_no) & (group['StopSequence'] < second_mrt_busstop_sequence_no)]\n",
    "                avg_in_between_volume = in_between_stops['average_passenger_volume'].mean()\n",
    "                \n",
    "                #if average vol is low, check outside range\n",
    "                if avg_in_between_volume < low_volume:\n",
    "\n",
    "                    #get seq number of before and after the 2 MRT bus stops\n",
    "                    before_mrt = group[group['StopSequence'] < first_mrt_busstop_sequence_no]['average_passenger_volume'].mean()\n",
    "                    after_mrt = group[group['StopSequence'] > second_mrt_busstop_sequence_no]['average_passenger_volume'].mean()\n",
    "                    \n",
    "                    #if outside range is low, remove all stops\n",
    "                    if before_mrt < low_volume and after_mrt < low_volume:\n",
    "                        group.loc[:, 'outcome'] = 'remove'\n",
    "\n",
    "                    else:\n",
    "                        #check if the MRT lines between the 1st and 2nd MRT busstops are matching\n",
    "                        mrt_line_1 = mrt_busstops.iloc[i]['MRTLine'] if mrt_busstops.iloc[i]['MRTLine'] else []\n",
    "                        mrt_line_2 = mrt_busstops.iloc[i + 1]['MRTLine'] if mrt_busstops.iloc[i + 1]['MRTLine'] else []\n",
    "                        \n",
    "                        mrt_lines_between = set(mrt_line_1).intersection(set(mrt_line_2))\n",
    "\n",
    "                        #if MRT lines are matching, remove stops\n",
    "                        if mrt_lines_between:\n",
    "                            group.loc[(group['StopSequence'] > first_mrt_busstop_sequence_no) & (group['StopSequence'] < second_mrt_busstop_sequence_no), 'outcome'] = 'remove'\n",
    "                        \n",
    "                        #else, keep it\n",
    "                        else:\n",
    "                            group.loc[(group['StopSequence'] > first_mrt_busstop_sequence_no) & (group['StopSequence'] < second_mrt_busstop_sequence_no), 'outcome'] = 'keep'\n",
    "                else:\n",
    "                    #keep the in-between stops if volume is high\n",
    "                    group.loc[(group['StopSequence'] > first_mrt_busstop_sequence_no) & (group['StopSequence'] < second_mrt_busstop_sequence_no), 'outcome'] = 'keep'\n",
    "\n",
    "        final_routes.append(group)\n",
    "    final_result = pd.concat(final_routes)\n",
    "\n",
    "    return final_result\n",
    "\n"
   ]
  },
  {
   "cell_type": "code",
   "execution_count": 11,
   "metadata": {},
   "outputs": [
    {
     "name": "stdout",
     "output_type": "stream",
     "text": [
      "      ServiceNo  Direction  StopSequence  BusStopCode             Description  \\\n",
      "2470        145          1             1        52009           Toa Payoh Int   \n",
      "2471        145          1             2        52079        Opp Trellis Twrs   \n",
      "2472        145          1             3        50161           Bef Jln Dusun   \n",
      "2473        145          1             4        50171          Zhongshan Mall   \n",
      "2474        145          1             5        50191     Bef Balestier Plaza   \n",
      "...         ...        ...           ...          ...                     ...   \n",
      "13259      961M          1            85         7371          Aft Kallang Rd   \n",
      "13260      961M          1            86        60011    BENDEMEER STN EXIT A   \n",
      "13261      961M          1            87        60059          Bef Kallang Pl   \n",
      "13262      961M          1            88        80109  Opp Kallang Stn/Blk 2C   \n",
      "13263      961M          1            89        80009       Lor 1 Geylang Ter   \n",
      "\n",
      "       MRTBusStop             MRTLine  average_passenger_volume  Latitude  \\\n",
      "2470            1  [North-South Line]              1.335735e+06  1.332021   \n",
      "2471            0                None              1.461073e+05  1.329315   \n",
      "2472            0                None              4.096333e+04  1.326657   \n",
      "2473            0                None              8.274733e+04  1.326634   \n",
      "2474            0                None              3.908933e+04  1.326045   \n",
      "...           ...                 ...                       ...       ...   \n",
      "13259           0                None              6.846367e+04  1.309508   \n",
      "13260           0                None              2.075333e+04  1.314718   \n",
      "13261           0                None              4.226933e+04  1.314346   \n",
      "13262           1    [East-West Line]              8.518100e+04  1.313245   \n",
      "13263           0                None              1.085000e+04  1.311164   \n",
      "\n",
      "        Longitude outcome  \n",
      "2470   103.846928    keep  \n",
      "2471   103.843829    keep  \n",
      "2472   103.843660    keep  \n",
      "2473   103.846410    keep  \n",
      "2474   103.849024    keep  \n",
      "...           ...     ...  \n",
      "13259  103.863501    keep  \n",
      "13260  103.863768    keep  \n",
      "13261  103.865863    keep  \n",
      "13262  103.871430    keep  \n",
      "13263  103.872163    keep  \n",
      "\n",
      "[360 rows x 11 columns]\n",
      "Top bus routes saved to top_bus_routes.csv\n"
     ]
    }
   ],
   "source": [
    "\n",
    "top_bus_routes = process_bus_routes(combined_bus_data, top_5_buses, low_volume)\n",
    "print(top_bus_routes)\n",
    "\n",
    "output_csv_path = \"top_bus_routes.csv\"\n",
    "top_bus_routes.to_csv(output_csv_path, index = False)  # index=False to avoid saving row numbers\n",
    "print(f\"Top bus routes saved to {output_csv_path}\")"
   ]
  },
  {
   "cell_type": "markdown",
   "metadata": {},
   "source": [
    "extra: js to see the split between low passenger vol busstops vs total"
   ]
  },
  {
   "cell_type": "code",
   "execution_count": 10,
   "metadata": {},
   "outputs": [
    {
     "name": "stdout",
     "output_type": "stream",
     "text": [
      "  ServiceNo  Direction  total_stop_count  low_volume_stop_count\n",
      "0       145          1                55                     20\n",
      "1        36          1                61                     23\n",
      "2        63          1               102                     35\n",
      "3       63A          1                53                     17\n",
      "4      961M          1                89                     55\n"
     ]
    }
   ],
   "source": [
    "def count_stops(final_result, low_volume):\n",
    "    # Filter for stops with low passenger volume\n",
    "    low_volume_stops = final_result[final_result['average_passenger_volume'] < low_volume]\n",
    "\n",
    "    # Group by ServiceNo and Direction to count low-volume stops\n",
    "    low_volume_count = low_volume_stops.groupby(['ServiceNo', 'Direction']).size().reset_index(name = 'low_volume_stop_count')\n",
    "\n",
    "    # Group by ServiceNo and Direction to count total bus stops in each route\n",
    "    total_stops_count = final_result.groupby(['ServiceNo', 'Direction']).size().reset_index(name = 'total_stop_count')\n",
    "\n",
    "    # Merge the two counts\n",
    "    result = pd.merge(total_stops_count, low_volume_count, on=['ServiceNo', 'Direction'], how = 'left')\n",
    "\n",
    "    # Fill NaN values with 0 for routes that have no low-volume stops\n",
    "    result['low_volume_stop_count'] = result['low_volume_stop_count'].fillna(0).astype(int)\n",
    "\n",
    "    return result\n",
    "\n",
    "# Use the function to count bus stops\n",
    "bus_stop_counts = count_stops(top_bus_routes, low_volume)\n",
    "\n",
    "# Print the results\n",
    "print(bus_stop_counts)\n",
    "\n"
   ]
  }
 ],
 "metadata": {
  "kernelspec": {
   "display_name": "Python 3",
   "language": "python",
   "name": "python3"
  },
  "language_info": {
   "codemirror_mode": {
    "name": "ipython",
    "version": 3
   },
   "file_extension": ".py",
   "mimetype": "text/x-python",
   "name": "python",
   "nbconvert_exporter": "python",
   "pygments_lexer": "ipython3",
   "version": "3.12.0"
  }
 },
 "nbformat": 4,
 "nbformat_minor": 2
}
