{
 "cells": [
  {
   "cell_type": "markdown",
   "metadata": {},
   "source": [
    "Import Packages"
   ]
  },
  {
   "cell_type": "code",
   "execution_count": 1,
   "metadata": {},
   "outputs": [],
   "source": [
    "import folium\n",
    "import geopandas as gpd\n",
    "import pandas as pd\n",
    "from shapely.geometry import MultiLineString, LineString\n",
    "from shapely.ops import nearest_points\n",
    "import math\n",
    "import numpy as np"
   ]
  },
  {
   "cell_type": "markdown",
   "metadata": {},
   "source": [
    "Load Data from our API Calls\n",
    "- the trunkroute needs to be updated to include direction == 2 (krystal)"
   ]
  },
  {
   "cell_type": "code",
   "execution_count": 2,
   "metadata": {},
   "outputs": [],
   "source": [
    "trunkroute = pd.read_csv(\"Bus_RoutesStopsServices/trunkroute.csv\")\n",
    "transport_node_bus_202407 = pd.read_csv(\"Passenger_Volume_By_Bus_Stop/transport_node_bus_202407.csv\")\n",
    "transport_node_bus_202408 = pd.read_csv(\"Passenger_Volume_By_Bus_Stop/transport_node_bus_202408.csv\")\n",
    "transport_node_bus_202409 = pd.read_csv(\"Passenger_Volume_By_Bus_Stop/transport_node_bus_202409.csv\")"
   ]
  },
  {
   "cell_type": "markdown",
   "metadata": {},
   "source": [
    "MRT line mapping\n",
    "- mrt_lines mapping\n",
    "- function to find MRT line based on bus stop description"
   ]
  },
  {
   "cell_type": "code",
   "execution_count": 3,
   "metadata": {},
   "outputs": [],
   "source": [
    "#mapping of stations to MRT lines\n",
    "mrt_lines = {\n",
    "    'Thomson-East Coast Line': ['WOODLANDS NORTH MRT STATION','WOODLANDS MRT STATION','WOODLANDS SOUTH MRT STATION', 'SPRINGLEAF MRT STATION','LENTOR MRT STATION','MAYFLOWER MRT STATION','BRIGHT HILL MRT STATION',\n",
    "                                'UPPER THOMSON MRT STATION','CALDECOTT MRT STATION','STEVENS MRT STATION','NAPIER MRT STATION','ORCHARD BOULEVARD MRT STATION','ORCHARD MRT STATION','GREAT WORLD MRT STATION',\n",
    "                                'HAVELOCK MRT STATION','OUTRAM PARK MRT STATION','MAXWELL MRT STATION','SHENTON WAY MRT STATION','MARINA BAY MRT STATION','GARDENS BY THE BAY MRT STATION','TANJONG RHU MRT STATION',\n",
    "                                'KATONG PARK MRT STATION','TANJONG KATONG MRT STATION','MARINE PARADE MRT STATION','MARINE TERRACE MRT STATION','SIGLAP MRT STATION','BAYSHORE MRT STATION'],\n",
    "    'North-South Line': ['JURONG EAST MRT STATION','BUKIT BATOK MRT STATION','BUKIT GOMBAK MRT STATION','CHOA CHU KANG MRT STATION','YEW TEE MRT STATION','KRANJI MRT STATION','MARSILING MRT STATION','WOODLANDS MRT STATION',\n",
    "                         'ADMIRALTY MRT STATION','SEMBAWANG MRT STATION','CANBERRRA MRT STATION','YISHUN MRT STATION','KHATIB MRT STATION','YIO CHU KANG MRT STATION','ANG MO KIO MRT STATION','BISHAN MRT STATION',\n",
    "                         'BRADDELL MRT STATION','TOA PAYOH MRT STATION','NOVENA MRT STATION','NEWTON MRT STATION','ORCHARD MRT STATION','SOMERSET MRT STATION','DHOBY GHAUT MRT STATION','CITY HALL MRT STATION',\n",
    "                         'RAFFLES PLACE MRT STATION','MARINA BAY MRT STATION','MARINA SOUTH PIER MRT STATION'],\n",
    "    'Circle Line': ['DHOBY GHAUT MRT STATION', 'BRAS BASAH MRT STATION', 'ESPLANADE MRT STATION', 'PROMENADE MRT STATION','NICOLL HIGHWAY MRT STATION','STADIUM MRT STATION',\n",
    "                    'MOUNTBATTEN MRT STATION','DAKOTA MRT STATION','PAYA LEBAR MRT STATION','MACPHERSON MRT STATION','TAI SENG MRT STATION','BARTLEY MRT STATION','SERANGOON MRT STATION','LORONG CHUAN MRT STATION',\n",
    "                    'BISHAN MRT STATION','MARYMOUNT MRT STATION','CALDECOTT MRT STATION','BOTANIC GARDENS MRT STATION','FARRER ROAD MRT STATION','HOLLAND VILLAGE MRT STATION','BUONA VISTA MRT STATION','ONE-NORTH MRT STATION',\n",
    "                    'KENT RIDGE MRT STATION', 'HAW PAW VILLA MRT STATION', 'PASIR PANJANG MRT STATION', 'LABRADOR PARK MRT STATION', 'TELOK BLANGAH MRT STATION','HABOURFRONT MRT STATION'],\n",
    "    'Circle Line.': ['PROMENADE MRT STATION','BAYFRONT MRT STATION', 'MARINA BAY MRT STATION'],\n",
    "    'North-East Line': ['HARBOURFRONT MRT STATION','OUTRAM PARK MRT STATION','CHINATOWN MRT STATION','CLARKE QUAY MRT STATION','DHOBY GHAUT MRT STATION','LITTLE INDIA MRT STATION','FARRER PARK MRT STATION','BOON KENG MRT STATION',\n",
    "                        'POTONG PASIR MRT STATION','WOODLEIGH MRT STATION','SERANGOON MRT STATION','KOVAN MRT STATION','HOUGANG MRT STATION','BUANGKOK MRT STATION','SENGKANG MRT STATION','PUNGGOL MRT STATION'],\n",
    "    'Downtown Line': ['BUKIT PANJANG MRT STATION', 'CASHEW MRT STATION', 'HILLVIEW MRT STATION', 'HUME MRT STATION', 'BEAUTY WORLD MRT STATION', 'KING ALBERT PARK MRT STATION', 'SIXTH AVENUE','TAN KAH KEE MRT STATION',\n",
    "                      'BOTANIC GARDENS MRT STATION', 'STEVENS MRT STATION', 'NEWTON MRT STATION', 'LITTLE INDIA MRT STATION', 'ROCHOR MRT STATION', 'BUGIS MRT STATION', 'PROMENADE MRT STATION', 'BAYFRONT MRT STATION',\n",
    "                      'DOWNTOWN MRT STATION', 'TELOK AYER MRT STATION', 'CHINATOWN MRT STATION', 'FORT CANNING MRT STATION', ' BENCOOLEN MRT STATION', 'JALAN BESAR MRT STATION', 'BENDEMEER MRT STATION', 'GEYLANG  BAHRU MRT STATION',\n",
    "                      'MATTAR MRT STATION', 'MACPHERSON MRT STATION', 'UBI MRT STATION', 'KAKI BUKIT MRT STATION', ' BEDOK NORTH MRT STATION', 'BEDOK RESERVOIR MRT STATION', 'TAMPINES WEST MRT STATION',\n",
    "                      'TAMPINES MRT STATION', 'TAMPINES EAST MRT STATION', 'UPPER CHANGI MRT STATION', 'EXPO MRT STATION'],\n",
    "    'East-West Line': ['PASIR RIS MRT STATION', 'TAMPINES MRT STATION', 'SIMEI MRT STATION', 'TANAH MERAH MRT STATION','BEDOK MRT STATION', 'KEMBANGAN MRT STATION', 'EUNOS MRT STATION', 'PAYA LEBAR MRT STATION',\n",
    "                       'ALJUNIED MRT STATION', 'KALLANG MRT STATION', ' LAVENDER MRT STATION','BUGIS MRT STATION', 'CITY HALL MRT STATION', 'RAFFLES PLACE MRT STATION','TANJONG PAGAR MRT STATION', 'OUTRAM PARK MRT STATION',\n",
    "                       'TIONG BAHRU MRT STATION', 'REDHILL MRT STATION', 'QUEENSTOWN MRT STATION', 'COMMONWEALTH MRT STATION','BUONA VISTA MRT STATION', 'DOVER MRT STATION', 'CLEMENTI MRT STATION', 'JURONG EAST MRT STATION',\n",
    "                       'CHINESE GARDEN MRT STATION', 'LAKESIDE MRT STATION', 'BOON LAY MRT STATION', 'PIONEER MRT STATION','JOO KON MRT STATION',' GUL CIRCLE MRT STATION', 'TUAS CRESCENT MRT STATION', \n",
    "                       'TUAS WEST ROAD MRT STATION', 'TUAS LINK MRT STATION'],\n",
    "    'East-West Line.':['TANAH MERAH MRT STATION','EXPO MRT STATION', 'CHANGI AIRPORT MRT STATION']\n",
    "}\n",
    "\n",
    "def find_mrt_line(description, mrt_lines):\n",
    "\n",
    "    matching_lines = []\n",
    "\n",
    "    for line, stations in mrt_lines.items():\n",
    "        for station in stations:\n",
    "            station_name = station.replace('MRT STATION', '').strip().lower() \n",
    "            if station_name in description.lower(): \n",
    "                matching_lines.append(line)\n",
    "    return matching_lines if matching_lines else None"
   ]
  },
  {
   "cell_type": "markdown",
   "metadata": {},
   "source": [
    "Bus Stop Passenger Volume Data\n",
    "\n",
    "- PT_CODE: bus stop code\n",
    "- average_passenger_volume: sum of weekday & weekend tap in & tap out for each bus service, averaged across 3 months\n",
    "\n"
   ]
  },
  {
   "cell_type": "code",
   "execution_count": 9,
   "metadata": {},
   "outputs": [],
   "source": [
    "#for each bus stop - get sum of tap in + tap out\n",
    "jul_busstop_vol = transport_node_bus_202407.groupby(['PT_TYPE', 'PT_CODE']).agg(\n",
    "    july_tap_in = ('TOTAL_TAP_IN_VOLUME', 'sum'),\n",
    "    july_tap_out = ('TOTAL_TAP_OUT_VOLUME', 'sum')\n",
    ").reset_index()\n",
    "\n",
    "aug_busstop_vol = transport_node_bus_202408.groupby(['PT_TYPE', 'PT_CODE']).agg(\n",
    "    august_tap_in = ('TOTAL_TAP_IN_VOLUME', 'sum'),\n",
    "    august_tap_out = ('TOTAL_TAP_OUT_VOLUME', 'sum')\n",
    ").reset_index()\n",
    "\n",
    "sep_busstop_vol = transport_node_bus_202409.groupby(['PT_TYPE', 'PT_CODE']).agg(\n",
    "    september_tap_in = ('TOTAL_TAP_IN_VOLUME', 'sum'),\n",
    "    september_tap_out = ('TOTAL_TAP_OUT_VOLUME', 'sum')\n",
    ").reset_index()\n",
    "\n",
    "#for each bus stop - get passenger volume (tap in + tap out)\n",
    "jul_busstop_vol['july_volume'] = jul_busstop_vol['july_tap_in'] + jul_busstop_vol['july_tap_out']\n",
    "jul_busstop_vol = jul_busstop_vol.drop(columns = ['july_tap_in', 'july_tap_out'])\n",
    "\n",
    "aug_busstop_vol['august_volume'] = aug_busstop_vol['august_tap_in'] + aug_busstop_vol['august_tap_out']\n",
    "aug_busstop_vol = aug_busstop_vol.drop(columns = ['august_tap_in', 'august_tap_out'])\n",
    "\n",
    "sep_busstop_vol['september_volume'] = sep_busstop_vol['september_tap_in'] + sep_busstop_vol['september_tap_out']\n",
    "sep_busstop_vol = sep_busstop_vol.drop(columns = ['september_tap_in', 'september_tap_out'])\n",
    "\n",
    "#merge to get all months volumes\n",
    "busstop_volumes = pd.merge(jul_busstop_vol, aug_busstop_vol, on = ['PT_TYPE', 'PT_CODE'], how = 'outer')\n",
    "busstop_volumes = pd.merge(busstop_volumes, sep_busstop_vol, on = ['PT_TYPE', 'PT_CODE'], how = 'outer')\n",
    "\n",
    "#calc average passenger volume across the 3 months\n",
    "busstop_volumes['average_passenger_volume'] = busstop_volumes[['july_volume', 'august_volume', 'september_volume']].mean(axis = 1)\n",
    "busstop_volumes = busstop_volumes.drop(columns=['july_volume', 'august_volume', 'september_volume', 'PT_TYPE'])"
   ]
  },
  {
   "cell_type": "markdown",
   "metadata": {},
   "source": [
    "Combined Bus Data\n",
    "- to be used for this remaining file"
   ]
  },
  {
   "cell_type": "code",
   "execution_count": 10,
   "metadata": {},
   "outputs": [
    {
     "name": "stdout",
     "output_type": "stream",
     "text": [
      "  ServiceNo  Direction  StopSequence  BusStopCode  MRTBusStop  \\\n",
      "0        10          1             1        75009           1   \n",
      "1        10          1             2        76059           0   \n",
      "2        10          1             3        76069           0   \n",
      "3        10          1             4        96289           0   \n",
      "4        10          1             5        96109           0   \n",
      "\n",
      "                           MRTLine  average_passenger_volume  Latitude  \\\n",
      "0  [Downtown Line, East-West Line]              2.562661e+06  1.354076   \n",
      "1                             None              1.545133e+05  1.352962   \n",
      "2                             None              1.494460e+05  1.348753   \n",
      "3                             None              1.428963e+05  1.340055   \n",
      "4                             None              5.027333e+04  1.337371   \n",
      "\n",
      "    Longitude  \n",
      "0  103.943391  \n",
      "1  103.941652  \n",
      "2  103.942086  \n",
      "3  103.948381  \n",
      "4  103.950673  \n"
     ]
    }
   ],
   "source": [
    "#merge trunkroute and busstop_volumes on BusStopCode = PT_CODE\n",
    "combined_bus_data = pd.merge(trunkroute, busstop_volumes, left_on = 'BusStopCode', right_on = 'PT_CODE', how = 'inner')\n",
    "\n",
    "#add column: if the bus stop is MRT bus stop or not\n",
    "combined_bus_data['MRTBusStop'] = combined_bus_data['Description'].apply(lambda x: 1 if 'Stn' in x or 'Int' in x else 0)\n",
    "\n",
    "#add column: to find MRTline(s) of MRT bus stops\n",
    "combined_bus_data['MRTLine'] = combined_bus_data.apply(\n",
    "    lambda row: find_mrt_line(row['Description'], mrt_lines) if row['MRTBusStop'] == 1 else None, axis=1\n",
    ")\n",
    "\n",
    "#select only the relevant columns\n",
    "combined_bus_data = combined_bus_data[['ServiceNo', 'Direction', 'StopSequence', 'BusStopCode', 'MRTBusStop', 'MRTLine',\n",
    "                                       'average_passenger_volume', 'Latitude', 'Longitude']]\n",
    "\n",
    "print(combined_bus_data.head())\n"
   ]
  },
  {
   "cell_type": "markdown",
   "metadata": {},
   "source": [
    "Top 5 bus services from parallelism_df \n",
    "- hardcoded to test, but to take data from parallelscore.ipynb\n",
    "\n",
    "\n"
   ]
  },
  {
   "cell_type": "code",
   "execution_count": 37,
   "metadata": {},
   "outputs": [],
   "source": [
    "parallelism_df = {\n",
    "    'ServiceNo': ['63', '961M', '145', '36', '63A', '6', '127A', '973A', '68A', '88B'],\n",
    "    'Direction': [1, 1, 1, 1, 1, 1, 1, 1, 1, 1],\n",
    "    'ParallelismScore': [2.254552, 1.964276, 1.927232, 1.901650, 1.872716, 0.004168, 0.003957, 0.003083, 0.003008, 0.002643]\n",
    "}\n",
    "\n",
    "parallelism_df = pd.DataFrame(parallelism_df)\n",
    "top_5_buses = parallelism_df.sort_values(by = 'ParallelismScore', ascending = False).head(5)\n",
    "top_routes = combined_bus_data[combined_bus_data['ServiceNo'].isin(top_5_buses['ServiceNo'])].copy()"
   ]
  },
  {
   "cell_type": "markdown",
   "metadata": {},
   "source": [
    "Input inside and outside threshold (can be changed)\n",
    "- currently set as 0.5 (average)\n",
    "- increasing this quantile value will increase the threshold value"
   ]
  },
  {
   "cell_type": "code",
   "execution_count": 38,
   "metadata": {},
   "outputs": [],
   "source": [
    "inside_quantile = 0.5\n",
    "outside_quantile = 0.5"
   ]
  },
  {
   "cell_type": "markdown",
   "metadata": {},
   "source": [
    "Function to get actual threshold values\n",
    "1) all 'in between' MRT bus stops threshold: distinct bus stops that are between MRT bus stops, in singapore\n",
    "2) all bus stops in each route threshold: distinct bus stops for the bus service, in that bus route"
   ]
  },
  {
   "cell_type": "code",
   "execution_count": 65,
   "metadata": {},
   "outputs": [],
   "source": [
    "#all 'in between' MRT bus stops threshold \n",
    "\n",
    "#for each bus service,\n",
    "# # that have at least 2 bus stops, store the busstop codes that are in between the first and last MRT bus stops\n",
    "# if its inside the list, dont include it (to get distinct)\n",
    "\n",
    "def create_inner_threshold(combined_bus_data, inside_quantile):\n",
    "\n",
    "    in_between_volumes = []\n",
    "    grouped_routes = combined_bus_data.groupby(['ServiceNo', 'Direction'])\n",
    "    processed_stops = set()\n",
    "\n",
    "    #for each route\n",
    "    for (service_no, direction), route in grouped_routes:\n",
    "\n",
    "        route = route.sort_values(by='StopSequence')\n",
    "        mrt_busstops = route[route['MRTBusStop'] == 1]\n",
    "\n",
    "        if len(mrt_busstops) >= 2:\n",
    "\n",
    "            first_mrt_stop_seq = mrt_busstops['StopSequence'].min()\n",
    "            last_mrt_stop_seq = mrt_busstops['StopSequence'].max()\n",
    "\n",
    "            #non-MRT bus stops in between the first and last MRT bus stop\n",
    "            in_between_stops = route[(route['StopSequence'] > first_mrt_stop_seq) &\n",
    "                                     (route['StopSequence'] < last_mrt_stop_seq) &\n",
    "                                     (route['MRTBusStop'] == 0)]\n",
    "\n",
    "            in_between_stops = in_between_stops[~in_between_stops['BusStopCode'].isin(processed_stops)]\n",
    "\n",
    "            #add distinct busstop volumes\n",
    "            if not in_between_stops.empty:\n",
    "                for _, stop in in_between_stops.iterrows():\n",
    "                    if pd.notna(stop['average_passenger_volume']):\n",
    "                        in_between_volumes.append(stop['average_passenger_volume'])\n",
    "\n",
    "            #update processed stops\n",
    "            processed_stops.update(in_between_stops['BusStopCode'])\n",
    "\n",
    "    #get quantile value\n",
    "    if in_between_volumes:\n",
    "        in_between_volumes_series = pd.Series(in_between_volumes)\n",
    "        inside_threshold_value = in_between_volumes_series.quantile(inside_quantile)\n",
    "    else:\n",
    "        inside_threshold_value = None \n",
    "\n",
    "    return inside_threshold_value"
   ]
  },
  {
   "cell_type": "code",
   "execution_count": 60,
   "metadata": {},
   "outputs": [],
   "source": [
    "#route = combined_bus_data[combined_bus_data['ServiceNo'] == 'bus number that we want']\n",
    "def create_outer_threshold(route, outside_quantile):\n",
    "\n",
    "    outside_volumes = []\n",
    "\n",
    "    route = route.sort_values(by = 'StopSequence')\n",
    "    mrt_busstops = route[route['MRTBusStop'] == 1]\n",
    "\n",
    "    #check if got at least 2 mrt stops\n",
    "    if len(mrt_busstops) >= 2:\n",
    "\n",
    "        #get stop sequences of the outside busstops\n",
    "        first_mrt_stop_seq = mrt_busstops['StopSequence'].min()\n",
    "        last_mrt_stop_seq = mrt_busstops['StopSequence'].max()\n",
    "        outside_stops = route[(route['StopSequence'] < first_mrt_stop_seq) | \n",
    "                                  (route['StopSequence'] > last_mrt_stop_seq)]\n",
    "\n",
    "        if not outside_stops.empty:\n",
    "            outside_volumes.extend(outside_stops['average_passenger_volume'].dropna().tolist())\n",
    "\n",
    "    #get quantile value\n",
    "    if outside_volumes:\n",
    "        outside_volumes_series = pd.Series(outside_volumes)\n",
    "        outside_threshold_value = outside_volumes_series.quantile(outside_quantile)\n",
    "    else:\n",
    "        outside_threshold_value = None  \n",
    "\n",
    "    return outside_threshold_value\n"
   ]
  },
  {
   "cell_type": "code",
   "execution_count": 63,
   "metadata": {},
   "outputs": [
    {
     "name": "stdout",
     "output_type": "stream",
     "text": [
      "Inner threshold value: 24812.666666666668\n",
      "Outer threshold value: 10333.166666666668\n"
     ]
    }
   ],
   "source": [
    "#inside threshold value\n",
    "inside_threshold_value = create_inner_threshold(combined_bus_data, inside_quantile)\n",
    "\n",
    "#outside threshold value for bus service 95 (js to test)\n",
    "route = combined_bus_data[combined_bus_data['ServiceNo'] == '95']\n",
    "outside_threshold_value = create_outer_threshold(route, outside_quantile)\n",
    "\n",
    "print(f\"Inner threshold value: {inside_threshold_value}\")\n",
    "print(f\"Outer threshold value: {outside_threshold_value}\")"
   ]
  },
  {
   "cell_type": "markdown",
   "metadata": {},
   "source": [
    "Classification function to remove/keep bus stops (need change)\n"
   ]
  },
  {
   "cell_type": "code",
   "execution_count": 32,
   "metadata": {},
   "outputs": [],
   "source": [
    "def process_bus_routes(combined_bus_data, top_buses, low_volume):\n",
    "\n",
    "    #filter for top routes from the bus data and grp by bus\n",
    "    top_routes = combined_bus_data[combined_bus_data['ServiceNo'].isin(top_buses['ServiceNo'])].copy()\n",
    "    grouped_routes = top_routes.groupby(['ServiceNo', 'Direction'])\n",
    "\n",
    "    #initialisation\n",
    "    top_routes.loc[:, 'outcome'] = 'keep'\n",
    "    final_routes = []\n",
    "\n",
    "    for (service_no, direction), group in grouped_routes:\n",
    "\n",
    "        group = group.sort_values(by = 'StopSequence')\n",
    "        mrt_busstops = group[group['MRTBusStop'] == 1]\n",
    "        \n",
    "        #if route have < 2 MRT stops, keep the route\n",
    "        if len(mrt_busstops) < 2:\n",
    "            group.loc[:, 'outcome'] = 'keep'\n",
    "\n",
    "        else:\n",
    "\n",
    "            stop_sequences = mrt_busstops['StopSequence'].tolist()\n",
    "            \n",
    "            #iterate over each pairs of MRT stops\n",
    "            for i in range(len(stop_sequences) - 1):\n",
    "\n",
    "                #get seq number of both mrt bus stops\n",
    "                first_mrt_busstop_sequence_no = stop_sequences[i]\n",
    "                second_mrt_busstop_sequence_no = stop_sequences[i + 1]\n",
    "                \n",
    "                #calculate the average passenger volume for ALL stops in between the 1st and 2nd MRT bus stop\n",
    "                in_between_stops = group[(group['StopSequence'] > first_mrt_busstop_sequence_no) & (group['StopSequence'] < second_mrt_busstop_sequence_no)]\n",
    "                avg_in_between_volume = in_between_stops['average_passenger_volume'].mean()\n",
    "                \n",
    "                #if average vol is low, check outside range\n",
    "                if avg_in_between_volume < low_volume:\n",
    "\n",
    "                    #get seq number of before and after the 2 MRT bus stops\n",
    "                    before_mrt = group[group['StopSequence'] < first_mrt_busstop_sequence_no]['average_passenger_volume'].mean()\n",
    "                    after_mrt = group[group['StopSequence'] > second_mrt_busstop_sequence_no]['average_passenger_volume'].mean()\n",
    "                    \n",
    "                    #if outside range is low, remove all stops\n",
    "                    if before_mrt < low_volume and after_mrt < low_volume:\n",
    "                        group.loc[:, 'outcome'] = 'remove'\n",
    "\n",
    "                    else:\n",
    "                        #check if the MRT lines between the 1st and 2nd MRT busstops are matching\n",
    "                        mrt_line_1 = mrt_busstops.iloc[i]['MRTLine'] if mrt_busstops.iloc[i]['MRTLine'] else []\n",
    "                        mrt_line_2 = mrt_busstops.iloc[i + 1]['MRTLine'] if mrt_busstops.iloc[i + 1]['MRTLine'] else []\n",
    "                        \n",
    "                        mrt_lines_between = set(mrt_line_1).intersection(set(mrt_line_2))\n",
    "\n",
    "                        #if MRT lines are matching, remove stops\n",
    "                        if mrt_lines_between:\n",
    "                            group.loc[(group['StopSequence'] > first_mrt_busstop_sequence_no) & (group['StopSequence'] < second_mrt_busstop_sequence_no), 'outcome'] = 'remove'\n",
    "                        \n",
    "                        #else, keep it\n",
    "                        else:\n",
    "                            group.loc[(group['StopSequence'] > first_mrt_busstop_sequence_no) & (group['StopSequence'] < second_mrt_busstop_sequence_no), 'outcome'] = 'keep'\n",
    "                else:\n",
    "                    #keep the in-between stops if volume is high\n",
    "                    group.loc[(group['StopSequence'] > first_mrt_busstop_sequence_no) & (group['StopSequence'] < second_mrt_busstop_sequence_no), 'outcome'] = 'keep'\n",
    "\n",
    "        final_routes.append(group)\n",
    "    final_result = pd.concat(final_routes)\n",
    "\n",
    "    return final_result\n",
    "\n"
   ]
  },
  {
   "cell_type": "code",
   "execution_count": 34,
   "metadata": {},
   "outputs": [
    {
     "name": "stdout",
     "output_type": "stream",
     "text": [
      "      ServiceNo  Direction  StopSequence  BusStopCode  MRTBusStop  \\\n",
      "2470        145          1             1        52009           1   \n",
      "2471        145          1             2        52079           0   \n",
      "2472        145          1             3        50161           0   \n",
      "2473        145          1             4        50171           0   \n",
      "2474        145          1             5        50191           0   \n",
      "...         ...        ...           ...          ...         ...   \n",
      "13283      961M          1            85         7371           0   \n",
      "13284      961M          1            86        60011           0   \n",
      "13285      961M          1            87        60059           0   \n",
      "13286      961M          1            88        80109           1   \n",
      "13287      961M          1            89        80009           0   \n",
      "\n",
      "                  MRTLine  average_passenger_volume  Latitude   Longitude  \\\n",
      "2470   [North-South Line]              1.812367e+06  1.332021  103.846928   \n",
      "2471                 None              1.933073e+05  1.329315  103.843829   \n",
      "2472                 None              5.576000e+04  1.326657  103.843660   \n",
      "2473                 None              1.154203e+05  1.326634  103.846410   \n",
      "2474                 None              5.397533e+04  1.326045  103.849024   \n",
      "...                   ...                       ...       ...         ...   \n",
      "13283                None              9.374867e+04  1.309508  103.863501   \n",
      "13284                None              2.604800e+04  1.314718  103.863768   \n",
      "13285                None              4.580467e+04  1.314346  103.865863   \n",
      "13286    [East-West Line]              1.142573e+05  1.313245  103.871430   \n",
      "13287                None              1.653467e+04  1.311164  103.872163   \n",
      "\n",
      "      outcome  \n",
      "2470     keep  \n",
      "2471     keep  \n",
      "2472     keep  \n",
      "2473     keep  \n",
      "2474     keep  \n",
      "...       ...  \n",
      "13283    keep  \n",
      "13284    keep  \n",
      "13285    keep  \n",
      "13286    keep  \n",
      "13287    keep  \n",
      "\n",
      "[360 rows x 10 columns]\n",
      "Top bus routes saved to top_bus_routes.csv\n"
     ]
    }
   ],
   "source": [
    "\n",
    "top_bus_routes = process_bus_routes(combined_bus_data, top_5_buses, inside_threshold_value)\n",
    "\n",
    "output_csv_path = \"top_bus_routes.csv\"\n",
    "top_bus_routes.to_csv(output_csv_path, index = False) \n",
    "print(f\"Top bus routes saved to {output_csv_path}\")"
   ]
  }
 ],
 "metadata": {
  "kernelspec": {
   "display_name": "venv",
   "language": "python",
   "name": "python3"
  },
  "language_info": {
   "codemirror_mode": {
    "name": "ipython",
    "version": 3
   },
   "file_extension": ".py",
   "mimetype": "text/x-python",
   "name": "python",
   "nbconvert_exporter": "python",
   "pygments_lexer": "ipython3",
   "version": "3.12.0"
  }
 },
 "nbformat": 4,
 "nbformat_minor": 2
}
