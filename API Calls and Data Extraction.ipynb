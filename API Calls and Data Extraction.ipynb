{
 "cells": [
  {
   "cell_type": "markdown",
   "metadata": {},
   "source": [
    "### Load Packages"
   ]
  },
  {
   "cell_type": "code",
   "execution_count": 25,
   "metadata": {},
   "outputs": [],
   "source": [
    "import requests\n",
    "import pandas as pd\n",
    "import os\n",
    "import json\n",
    "import io\n",
    "import zipfile\n",
    "import geopandas as gpd\n",
    "from shapely.geometry import LineString"
   ]
  },
  {
   "cell_type": "markdown",
   "metadata": {},
   "source": [
    "### Set your own LTA DataMall API Key"
   ]
  },
  {
   "cell_type": "code",
   "execution_count": 22,
   "metadata": {},
   "outputs": [],
   "source": [
    "LTA_KEY = \"\""
   ]
  },
  {
   "cell_type": "markdown",
   "metadata": {},
   "source": [
    "### For Bus Routes, Stops, Services"
   ]
  },
  {
   "cell_type": "code",
   "execution_count": 23,
   "metadata": {},
   "outputs": [],
   "source": [
    "def fetch_bus_data(resource_url):\n",
    "    all_data = []\n",
    "    skip_value = 0\n",
    "    while True:\n",
    "        url = f\"{resource_url}?$skip={skip_value}\"\n",
    "        headers = {\n",
    "            'AccountKey': LTA_KEY,\n",
    "            'accept': 'application/json'\n",
    "        }\n",
    "        response = requests.get(url, headers=headers)\n",
    "\n",
    "        if response.status_code == 200:\n",
    "            data = response.json()\n",
    "\n",
    "            if len(data['value']) == 0:\n",
    "                break\n",
    "\n",
    "            all_data.extend(data['value'])\n",
    "            skip_value += 500\n",
    "        else:\n",
    "            raise Exception(f\"Failed to retrieve data. Status code: {response.status_code}\")\n",
    "    \n",
    "    return pd.DataFrame(all_data)\n",
    "\n",
    "\n",
    "data_dir_Bus_RoutesStopsServices = \"Bus_RoutesStopsServices\"\n",
    "if not os.path.exists(data_dir_Bus_RoutesStopsServices):\n",
    "    os.makedirs(data_dir_Bus_RoutesStopsServices)\n",
    "\n",
    "bus_routes_url = \"http://datamall2.mytransport.sg/ltaodataservice/BusRoutes\"\n",
    "bus_routes_df = fetch_bus_data(bus_routes_url)\n",
    "bus_routes_df.to_csv(f\"{data_dir_Bus_RoutesStopsServices}/bus_routes.csv\", index=False)\n",
    "\n",
    "bus_stops_url = \"http://datamall2.mytransport.sg/ltaodataservice/BusStops\"\n",
    "bus_stops_df = fetch_bus_data(bus_stops_url)\n",
    "bus_stops_df.to_csv(f\"{data_dir_Bus_RoutesStopsServices}/bus_stops.csv\", index=False)\n",
    "\n",
    "bus_services_url = \"http://datamall2.mytransport.sg/ltaodataservice/BusServices\"\n",
    "bus_services_df = fetch_bus_data(bus_services_url)\n",
    "bus_services_df.to_csv(f\"{data_dir_Bus_RoutesStopsServices}/bus_services.csv\", index=False)"
   ]
  },
  {
   "cell_type": "code",
   "execution_count": null,
   "metadata": {},
   "outputs": [
    {
     "name": "stderr",
     "output_type": "stream",
     "text": [
      "/var/folders/04/m1t5w2x550x1wh8c434jplpw0000gn/T/ipykernel_5618/1613777965.py:9: UserWarning: Geometry is in a geographic CRS. Results from 'centroid' are likely incorrect. Use 'GeoSeries.to_crs()' to re-project geometries to a projected CRS before this operation.\n",
      "\n",
      "  coordinates = group_sorted['geometry'].centroid.apply(lambda geom: (geom.y, geom.x)).tolist()\n",
      "/var/folders/04/m1t5w2x550x1wh8c434jplpw0000gn/T/ipykernel_5618/1613777965.py:9: UserWarning: Geometry is in a geographic CRS. Results from 'centroid' are likely incorrect. Use 'GeoSeries.to_crs()' to re-project geometries to a projected CRS before this operation.\n",
      "\n",
      "  coordinates = group_sorted['geometry'].centroid.apply(lambda geom: (geom.y, geom.x)).tolist()\n",
      "/var/folders/04/m1t5w2x550x1wh8c434jplpw0000gn/T/ipykernel_5618/1613777965.py:9: UserWarning: Geometry is in a geographic CRS. Results from 'centroid' are likely incorrect. Use 'GeoSeries.to_crs()' to re-project geometries to a projected CRS before this operation.\n",
      "\n",
      "  coordinates = group_sorted['geometry'].centroid.apply(lambda geom: (geom.y, geom.x)).tolist()\n",
      "/var/folders/04/m1t5w2x550x1wh8c434jplpw0000gn/T/ipykernel_5618/1613777965.py:9: UserWarning: Geometry is in a geographic CRS. Results from 'centroid' are likely incorrect. Use 'GeoSeries.to_crs()' to re-project geometries to a projected CRS before this operation.\n",
      "\n",
      "  coordinates = group_sorted['geometry'].centroid.apply(lambda geom: (geom.y, geom.x)).tolist()\n",
      "/var/folders/04/m1t5w2x550x1wh8c434jplpw0000gn/T/ipykernel_5618/1613777965.py:9: UserWarning: Geometry is in a geographic CRS. Results from 'centroid' are likely incorrect. Use 'GeoSeries.to_crs()' to re-project geometries to a projected CRS before this operation.\n",
      "\n",
      "  coordinates = group_sorted['geometry'].centroid.apply(lambda geom: (geom.y, geom.x)).tolist()\n",
      "/var/folders/04/m1t5w2x550x1wh8c434jplpw0000gn/T/ipykernel_5618/1613777965.py:9: UserWarning: Geometry is in a geographic CRS. Results from 'centroid' are likely incorrect. Use 'GeoSeries.to_crs()' to re-project geometries to a projected CRS before this operation.\n",
      "\n",
      "  coordinates = group_sorted['geometry'].centroid.apply(lambda geom: (geom.y, geom.x)).tolist()\n",
      "/var/folders/04/m1t5w2x550x1wh8c434jplpw0000gn/T/ipykernel_5618/1613777965.py:9: UserWarning: Geometry is in a geographic CRS. Results from 'centroid' are likely incorrect. Use 'GeoSeries.to_crs()' to re-project geometries to a projected CRS before this operation.\n",
      "\n",
      "  coordinates = group_sorted['geometry'].centroid.apply(lambda geom: (geom.y, geom.x)).tolist()\n",
      "/var/folders/04/m1t5w2x550x1wh8c434jplpw0000gn/T/ipykernel_5618/1613777965.py:9: UserWarning: Geometry is in a geographic CRS. Results from 'centroid' are likely incorrect. Use 'GeoSeries.to_crs()' to re-project geometries to a projected CRS before this operation.\n",
      "\n",
      "  coordinates = group_sorted['geometry'].centroid.apply(lambda geom: (geom.y, geom.x)).tolist()\n"
     ]
    }
   ],
   "source": [
    "grouped_train_lines = gpd.read_file(\"TrainStation_Jul2024/mrt_lines_shapefile.shp\")\n",
    "grouped_train_lines = grouped_train_lines.groupby('MRT_LINE')\n",
    "\n",
    "mrt_lines_list = []  # Initialise list \n",
    "\n",
    "# Create  MultiLineString\n",
    "for MRT_LINE, group in grouped_train_lines:\n",
    "    group_sorted = group.sort_values('STN_SEQUEN')\n",
    "    coordinates = group_sorted['geometry'].centroid.apply(lambda geom: (geom.y, geom.x)).tolist()\n",
    "    mrt_lines_list.append(LineString(coordinates))\n",
    "\n",
    "# Merge into one MultiLineString\n",
    "mrt_multiline = MultiLineString(mrt_lines_list)"
   ]
  },
  {
   "cell_type": "markdown",
   "metadata": {},
   "source": [
    "### Filter for Trunk Services"
   ]
  },
  {
   "cell_type": "code",
   "execution_count": 24,
   "metadata": {},
   "outputs": [],
   "source": [
    "trunk_services = bus_services_df[bus_services_df['Category'] == 'TRUNK']['ServiceNo'].tolist()\n",
    "trunk_services_routes = bus_routes_df[bus_routes_df['ServiceNo'].isin(trunk_services)]\n",
    "\n",
    "trunkroutes = pd.merge(trunk_services_routes, bus_stops_df, on='BusStopCode', how='left')\n",
    "trunkroutes.to_csv(f\"{data_dir_Bus_RoutesStopsServices}/trunkroutes.csv\", index=False)"
   ]
  },
  {
   "cell_type": "markdown",
   "metadata": {},
   "source": [
    "### LineString for Bus Routes"
   ]
  },
  {
   "cell_type": "code",
   "execution_count": 33,
   "metadata": {},
   "outputs": [],
   "source": [
    "line_strings = []\n",
    "\n",
    "unique_services = trunkroutes['ServiceNo'].unique()\n",
    "\n",
    "for service_no in unique_services:\n",
    "    busroutes = trunkroutes[trunkroutes['ServiceNo'] == service_no]\n",
    "\n",
    "    if busroutes['Direction'].nunique() == 2:\n",
    "        # Non-loop service: get Direction 1 in forward order and Direction 2 \n",
    "        direction_1 = busroutes[busroutes['Direction'] == 1].sort_values('StopSequence')\n",
    "        direction_2 = busroutes[busroutes['Direction'] == 2].sort_values('StopSequence')\n",
    "        # Concatenate Direction 1 followed by Direction 2\n",
    "        unified_route = pd.concat([direction_1, direction_2])\n",
    "    else:\n",
    "        # Loop service: only one direction, just sort it\n",
    "        unified_route = busroutes.sort_values('StopSequence')\n",
    "\n",
    "    # Extract the coordinates from unified route\n",
    "    bus_coordinates = list(zip(unified_route['Latitude'], unified_route['Longitude']))  # Note: (lon, lat) for LineString\n",
    "    bus_route_line = LineString(bus_coordinates)\n",
    "\n",
    "    # Create LINESTRING representation\n",
    "    line_string_representation = f\"LINESTRING ({', '.join(f'{lon} {lat}' for lon, lat in bus_coordinates)})\"\n",
    "    \n",
    "    line_strings.append({\n",
    "        'ServiceNo': service_no,\n",
    "        'LineString': line_string_representation\n",
    "    })\n",
    "\n",
    "line_string_df = pd.DataFrame(line_strings)\n",
    "line_string_df.to_csv(f\"{data_dir_Bus_RoutesStopsServices}/bus_linestring.csv\", index=False)\n"
   ]
  },
  {
   "cell_type": "markdown",
   "metadata": {},
   "source": [
    "### For Passenger Volume (Note LTA DataMall only allows for calls up to 3 Months prior)"
   ]
  },
  {
   "cell_type": "code",
   "execution_count": 51,
   "metadata": {},
   "outputs": [
    {
     "name": "stdout",
     "output_type": "stream",
     "text": [
      "Files extracted to Passenger_Volume_By_Bus_Stop\n",
      "Files extracted to Passenger_Volume_By_Bus_Stop\n",
      "Files extracted to Passenger_Volume_By_Bus_Stop\n"
     ]
    }
   ],
   "source": [
    "def fetch_pv_data(resource_url, output_dir):\n",
    "\n",
    "    headers = {\n",
    "        'AccountKey': LTA_KEY\n",
    "    }\n",
    "    \n",
    "    response = requests.get(resource_url, headers=headers)\n",
    "    \n",
    "    if response.status_code == 200:\n",
    "        # Parse the response JSON to get the signed URL\n",
    "        data = response.json()\n",
    "        if 'value' in data and len(data['value']) > 0:\n",
    "            signed_url = data['value'][0]['Link']\n",
    "            \n",
    "            # Make a request to the signed URL to get the zip file\n",
    "            zip_response = requests.get(signed_url)\n",
    "            \n",
    "            if zip_response.status_code == 200:\n",
    "                # Extract the CSV file from the zip file\n",
    "                with zipfile.ZipFile(io.BytesIO(zip_response.content)) as z:\n",
    "                    z.extractall(output_dir)  \n",
    "                \n",
    "                print(f\"Files extracted to {output_dir}\")\n",
    "            else:\n",
    "                raise Exception(f\"Failed to download the file. Status code: {zip_response.status_code}\")\n",
    "        else:\n",
    "            raise Exception(\"Signed URL not found in the response.\")\n",
    "    else:\n",
    "        raise Exception(f\"Failed to retrieve data. Status code: {response.status_code}\")\n",
    "\n",
    "data_dir_Passenger_Volume_By_Bus_Stop = \"Passenger_Volume_By_Bus_Stop\"\n",
    "if not os.path.exists(data_dir_Passenger_Volume_By_Bus_Stop):\n",
    "    os.makedirs(data_dir_Passenger_Volume_By_Bus_Stop)\n",
    "\n",
    "# September 2024\n",
    "pv_sept_url = \"http://datamall2.mytransport.sg/ltaodataservice/PV/Bus?Date=202409\"\n",
    "fetch_pv_data(pv_sept_url, data_dir_Passenger_Volume_By_Bus_Stop)\n",
    "\n",
    "# August 2024\n",
    "pv_aug_url = \"http://datamall2.mytransport.sg/ltaodataservice/PV/Bus?Date=202408\"\n",
    "fetch_pv_data(pv_aug_url, data_dir_Passenger_Volume_By_Bus_Stop)\n",
    "\n",
    "# July 2024\n",
    "pv_jul_url = \"http://datamall2.mytransport.sg/ltaodataservice/PV/Bus?Date=202407\"\n",
    "fetch_pv_data(pv_jul_url, data_dir_Passenger_Volume_By_Bus_Stop)"
   ]
  },
  {
   "cell_type": "markdown",
   "metadata": {},
   "source": [
    "### For Train Stations and Bus Stops Location"
   ]
  },
  {
   "cell_type": "code",
   "execution_count": 67,
   "metadata": {},
   "outputs": [],
   "source": [
    "def fetch_shp_data(resource_url, output_folder):\n",
    "    headers = {\n",
    "        'AccountKey': LTA_KEY,\n",
    "    }\n",
    "    \n",
    "    # Initial API call to get the download link\n",
    "    response = requests.get(resource_url, headers=headers)\n",
    "    \n",
    "    if response.status_code == 200:\n",
    "        # Extract the link from the API response\n",
    "        response_json = response.json()\n",
    "        download_link = response_json[\"value\"][0][\"Link\"]\n",
    "        \n",
    "        # Download the ZIP file from the extracted link\n",
    "        zip_response = requests.get(download_link)\n",
    "        \n",
    "        if zip_response.status_code == 200:\n",
    "            # Unzip \n",
    "            with zipfile.ZipFile(io.BytesIO(zip_response.content)) as z:\n",
    "                z.extractall(output_folder) \n",
    "                \n",
    "        else:\n",
    "            raise Exception(f\"Failed to download ZIP file. Status code: {zip_response.status_code}\")\n",
    "    else:\n",
    "        raise Exception(f\"Failed to retrieve data. Status code: {response.status_code}\")\n",
    "\n",
    "data_dir_TrainStation_Jul2024 = \"TrainStation_Jul2024\"\n",
    "if not os.path.exists(data_dir_TrainStation_Jul2024):\n",
    "    os.makedirs(data_dir_TrainStation_Jul2024)\n",
    "\n",
    "data_dir_BusStopLocation_Jul2024 = \"BusStopLocation_Jul2024\"\n",
    "if not os.path.exists(data_dir_BusStopLocation_Jul2024):\n",
    "    os.makedirs(data_dir_BusStopLocation_Jul2024)\n",
    "\n",
    "train_stations_locations_url = \"http://datamall2.mytransport.sg/ltaodataservice/GeospatialWholeIsland?ID=TrainStation\"\n",
    "fetch_shp_data(train_stations_locations_url, data_dir_TrainStation_Jul2024)\n",
    "\n",
    "bus_stops_locations_url = \"http://datamall2.mytransport.sg/ltaodataservice/GeospatialWholeIsland?ID=BusStopLocation\"\n",
    "BusStopLocation_Jul2024 = fetch_shp_data(bus_stops_locations_url, data_dir_BusStopLocation_Jul2024)\n"
   ]
  }
 ],
 "metadata": {
  "kernelspec": {
   "display_name": "myenv",
   "language": "python",
   "name": "python3"
  },
  "language_info": {
   "codemirror_mode": {
    "name": "ipython",
    "version": 3
   },
   "file_extension": ".py",
   "mimetype": "text/x-python",
   "name": "python",
   "nbconvert_exporter": "python",
   "pygments_lexer": "ipython3",
   "version": "3.10.9"
  }
 },
 "nbformat": 4,
 "nbformat_minor": 2
}
