{
 "cells": [
  {
   "cell_type": "markdown",
   "metadata": {},
   "source": [
    "## API Call from LTA DataMall"
   ]
  },
  {
   "cell_type": "code",
   "execution_count": null,
   "metadata": {},
   "outputs": [],
   "source": [
    "import requests\n",
    "import pandas as pd\n",
    "import os\n",
    "import json"
   ]
  },
  {
   "cell_type": "code",
   "execution_count": null,
   "metadata": {},
   "outputs": [],
   "source": [
    "LTA_KEY = os.getenv(\"LTA_KEY\") # Set LTA_KEY beforehand\n",
    "\n",
    "def fetch_data(resource_url):\n",
    "    all_data = []\n",
    "    skip_value = 0\n",
    "    while True:\n",
    "        url = f\"{resource_url}?$skip={skip_value}\"\n",
    "        headers = {\n",
    "            'AccountKey': LTA_KEY,\n",
    "            'accept': 'application/json'\n",
    "        }\n",
    "        response = requests.get(url, headers=headers)\n",
    "\n",
    "        if response.status_code == 200:\n",
    "            data = response.json()\n",
    "\n",
    "            if len(data['value']) == 0:\n",
    "                break\n",
    "\n",
    "            all_data.extend(data['value'])\n",
    "            skip_value += 500\n",
    "        else:\n",
    "            raise Exception(f\"Failed to retrieve data. Status code: {response.status_code}\")\n",
    "    \n",
    "    return pd.DataFrame(all_data)\n",
    "\n",
    "\n",
    "data_dir = \"Bus_RoutesStopsServices\"\n",
    "if not os.path.exists(data_dir):\n",
    "    os.makedirs(data_dir)\n",
    "\n",
    "bus_routes_url = \"http://datamall2.mytransport.sg/ltaodataservice/BusRoutes\"\n",
    "bus_routes_df = fetch_data(bus_routes_url)\n",
    "bus_routes_df.to_csv(f\"{data_dir}/bus_routes.csv\", index=False)\n",
    "\n",
    "bus_stops_url = \"http://datamall2.mytransport.sg/ltaodataservice/BusStops\"\n",
    "bus_stops_df = fetch_data(bus_stops_url)\n",
    "bus_stops_df.to_csv(f\"{data_dir}/bus_stops.csv\", index=False)\n",
    "\n",
    "bus_services_url = \"http://datamall2.mytransport.sg/ltaodataservice/BusServices\"\n",
    "bus_services_df = fetch_data(bus_services_url)\n",
    "bus_services_df.to_csv(f\"{data_dir}/bus_services.csv\", index=False)"
   ]
  },
  {
   "cell_type": "markdown",
   "metadata": {},
   "source": [
    "## Filter for Trunk "
   ]
  },
  {
   "cell_type": "code",
   "execution_count": null,
   "metadata": {},
   "outputs": [],
   "source": []
  }
 ],
 "metadata": {
  "kernelspec": {
   "display_name": "myenv",
   "language": "python",
   "name": "python3"
  },
  "language_info": {
   "codemirror_mode": {
    "name": "ipython",
    "version": 3
   },
   "file_extension": ".py",
   "mimetype": "text/x-python",
   "name": "python",
   "nbconvert_exporter": "python",
   "pygments_lexer": "ipython3",
   "version": "3.10.7"
  }
 },
 "nbformat": 4,
 "nbformat_minor": 2
}
